{
 "cells": [
  {
   "cell_type": "markdown",
   "metadata": {
    "collapsed": true
   },
   "source": [
    "# Introduction"
   ]
  },
  {
   "cell_type": "markdown",
   "metadata": {},
   "source": [
    "My friend is considering to open a restaurant in Toronto, Canada. However, she could not decide which type of the restaurant and also which neighborhood she should place the investment. To deal with this problem, she needs some relevant analysis about the characteristics, trends in different boroughs of the area."
   ]
  },
  {
   "cell_type": "markdown",
   "metadata": {},
   "source": [
    "# Data"
   ]
  },
  {
   "cell_type": "markdown",
   "metadata": {},
   "source": [
    "The data used in the analysis are a list of Toronto’s boroughs (\"https://en.wikipedia.org/wiki/List_of_postal_codes_of_Canada:_M\"), Toronto’s coordinate (\"http://cocl.us/Geospatial_data\"), and Foursquare platform, including location, local search, and venue ratings.  \n",
    "In order to create a full dataframe with the name of locations and its geographical information, I need to merge the cleaned list of Toronto’s boroughs and its coordinates.  \n",
    "Finally, we will use Foursquare platform to identify the nearby venues in each area.\n"
   ]
  },
  {
   "cell_type": "markdown",
   "metadata": {},
   "source": []
  }
 ],
 "metadata": {
  "kernelspec": {
   "display_name": "Python 3.5",
   "language": "python",
   "name": "python3"
  },
  "language_info": {
   "codemirror_mode": {
    "name": "ipython",
    "version": 3
   },
   "file_extension": ".py",
   "mimetype": "text/x-python",
   "name": "python",
   "nbconvert_exporter": "python",
   "pygments_lexer": "ipython3",
   "version": "3.5.5"
  }
 },
 "nbformat": 4,
 "nbformat_minor": 1
}
